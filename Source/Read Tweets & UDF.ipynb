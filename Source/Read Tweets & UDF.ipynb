{
 "cells": [
  {
   "cell_type": "markdown",
   "metadata": {},
   "source": [
    "# First Spark Streaming Example\n",
    "_____"
   ]
  },
  {
   "cell_type": "markdown",
   "metadata": {},
   "source": []
  },
  {
   "cell_type": "code",
   "execution_count": 1,
   "metadata": {},
   "outputs": [],
   "source": [
    "import findspark\n",
    "\n",
    "findspark.init('/Users/neerajpadarthi/Neeraj/spark-2.3.0-bin-hadoop2.7')\n",
    "\n",
    "# May cause deprecation warnings, safe to ignore, they aren't errors\n",
    "from pyspark import SparkContext\n",
    "from pyspark.streaming import StreamingContext\n",
    "from pyspark.sql import SQLContext\n",
    "from pyspark.sql.functions import desc\n",
    "from pyspark.sql import Row\n",
    "import re\n",
    "\n",
    "# Can only run this once. restart your kernel for any errors.\n",
    "sc = SparkContext.getOrCreate()\n",
    "# sc1 = SparkSession.builder.appName(\"Hive TST\").enableHiveSupport().getOrCreate()\n",
    "\n",
    "\n",
    "\n",
    "ssc = StreamingContext(sc, 10 )\n",
    "sqlContext = SQLContext(sc)\n",
    "\n",
    "socket_stream = ssc.socketTextStream(\"127.0.0.1\", 5551)\n",
    "\n",
    "lines = socket_stream.window( 20,20 )\n",
    "\n",
    "from collections import namedtuple\n",
    "fields = (\"tag\", \"count\" )\n",
    "Tweet = namedtuple( 'Tweet', fields )\n",
    "\n",
    "fields = (\"tweet\" )\n",
    "Tweet1 = namedtuple( 'Tweet', fields )\n",
    "\n",
    "# Use Parenthesis for multiple lines or use \\.\n",
    "( lines.flatMap( lambda text: text.split( \" \" ) ) \n",
    "  .filter( lambda word: word.lower().startswith(\"#\") ) \n",
    "  .map( lambda word: ( word.lower(), 1 ) ) \n",
    "  .reduceByKey( lambda a, b: a + b ) \n",
    "  .map( lambda rec: Tweet( rec[0], rec[1] ) ) \n",
    "  .foreachRDD( lambda rdd: rdd.toDF().sort( desc(\"count\") ) \n",
    "  .limit(10).registerTempTable(\"tweets\") ) ) \n",
    "\n",
    "\n",
    "\n",
    "\n",
    "lines.map(lambda x: (x.replace(',','').lower(), )).foreachRDD( lambda rdd: rdd.toDF().registerTempTable(\"tweets1\") )\n",
    "\n",
    "def Find(string): \n",
    "    # findall() has been used  \n",
    "    # with valid conditions for urls in string \n",
    "    return (re.search(\"(?P<url>https?://[^\\s]+)\", string))\n",
    "\n",
    "lines.flatMap(lambda text: text.split(\" \"))\\\n",
    ".filter( lambda word: word.startswith(\"http\")).map( lambda word: ( word.lower(), 1 ) )\\\n",
    ".reduceByKey( lambda a, b: a + b ).foreachRDD( lambda rdd: rdd.toDF()\\\n",
    "  .limit(10).registerTempTable(\"tweets_url\") )\n",
    "\n",
    "\n",
    "\n",
    "\n",
    "# lines.pprint()"
   ]
  },
  {
   "cell_type": "code",
   "execution_count": null,
   "metadata": {},
   "outputs": [],
   "source": []
  },
  {
   "cell_type": "markdown",
   "metadata": {},
   "source": [
    "__________\n",
    "### Run the TweetRead.py file at this point\n",
    "__________"
   ]
  },
  {
   "cell_type": "code",
   "execution_count": 2,
   "metadata": {},
   "outputs": [],
   "source": [
    "import time\n",
    "from IPython import display\n",
    "import matplotlib.pyplot as plt\n",
    "import seaborn as sns\n",
    "import pandas\n",
    "# Only works for Jupyter Notebooks!\n",
    "%matplotlib inline \n",
    "\n",
    "ssc.start()"
   ]
  },
  {
   "cell_type": "code",
   "execution_count": null,
   "metadata": {},
   "outputs": [],
   "source": [
    "# from pyspark.sql import SparkSession, column\n",
    "# spark = SparkSession.builder.appName(\"Hive TST\").enableHiveSupport().getOrCreate()\n",
    "\n",
    "# spark.sql(\"use default\").show()\n",
    "# spark.sql(\"CREATE TABLE tweets_tbl(text string)\").show()\n",
    "# spark.sql(\"INSERT INTO table tweets_tbl SELECT * FROM tweets\").show()"
   ]
  },
  {
   "cell_type": "code",
   "execution_count": 3,
   "metadata": {},
   "outputs": [
    {
     "name": "stderr",
     "output_type": "stream",
     "text": [
      "ERROR:root:Invalid alias: The name clear can't be aliased because it is another magic command.\n",
      "ERROR:root:Invalid alias: The name more can't be aliased because it is another magic command.\n",
      "ERROR:root:Invalid alias: The name less can't be aliased because it is another magic command.\n",
      "ERROR:root:Invalid alias: The name man can't be aliased because it is another magic command.\n"
     ]
    }
   ],
   "source": [
    "count = 0\n",
    "while count < 20:\n",
    "    time.sleep(20)\n",
    "    sqlContext.sql( 'Select * from tweets1').coalesce(1).write.mode(\"append\").option(\"header\",True).format(\"csv\").save(\"temp_csv\")\n",
    "    count = count + 1"
   ]
  },
  {
   "cell_type": "code",
   "execution_count": 8,
   "metadata": {},
   "outputs": [
    {
     "data": {
      "text/plain": [
       "<function __main__.model_textblob(text)>"
      ]
     },
     "execution_count": 8,
     "metadata": {},
     "output_type": "execute_result"
    }
   ],
   "source": [
    "import re,pandas as pd\n",
    "from joblib import dump,load\n",
    "from textblob import TextBlob\n",
    "\n",
    "\n",
    "model=load('lr.joblib')\n",
    "tfidf_temp=load('tfid.joblib')\n",
    "\n",
    "\n",
    "def data_cleansing(corpus):\n",
    "    letters_only = re.sub(\"[^a-zA-Z]\", \" \", corpus) \n",
    "    words = letters_only.lower().split()                            \n",
    "    return( \" \".join( words ))\n",
    "\n",
    "def model_predict(text):\n",
    "    t_a=tfidf_temp.transform(pd.Series(text).astype(str))\n",
    "    pred1 = model.predict(t_a)\n",
    "    print(pred1)\n",
    "    return (pred1[0])\n",
    "\n",
    "def model_textblob(text):\n",
    "    score=TextBlob(str((text).encode('ascii', 'ignore'))).sentiment.polarity\n",
    "    if score <= 0.0 :\n",
    "        return ('negative')\n",
    "    else:\n",
    "        return ('positive')\n",
    "\n",
    "from pyspark.sql.types import StringType\n",
    "spark.udf.register(\"custom_udf\", data_cleansing, StringType())\n",
    "spark.udf.register(\"custom_predict\",model_predict,StringType())\n",
    "spark.udf.register(\"texblob\",model_textblob,StringType())"
   ]
  },
  {
   "cell_type": "code",
   "execution_count": 9,
   "metadata": {},
   "outputs": [
    {
     "name": "stdout",
     "output_type": "stream",
     "text": [
      "+--------------------+------------------------------+-----------------------+\n",
      "|                  _1|custom_predict(custom_udf(_1))|texblob(custom_udf(_1))|\n",
      "+--------------------+------------------------------+-----------------------+\n",
      "|just follow @fand...|                      positive|               negative|\n",
      "|                    |                      negative|               negative|\n",
      "|« mané pas sur le...|                      negative|               negative|\n",
      "|                    |                      negative|               negative|\n",
      "|dé…mini wireless ...|                      negative|               positive|\n",
      "|get this deal tod...|                      positive|               positive|\n",
      "|                    |                      negative|               negative|\n",
      "|✅ consecutive 90+...|                      positive|               positive|\n",
      "|✅ top prospect in...|                      negative|               positive|\n",
      "|✅ top farm system...|                      positive|               positive|\n",
      "|                    |                      negative|               negative|\n",
      "|fifa ballon d'or ...|                      positive|               positive|\n",
      "|                    |                      negative|               negative|\n",
      "|🔵🔴 🔵🔴 (((live...|                      positive|               positive|\n",
      "|                    |                      negative|               negative|\n",
      "|live 1 &gt;&gt;&g...|                      positive|               positive|\n",
      "|                    |                      negative|               negative|\n",
      "|li…@ay_djz jfais ...|                      positive|               positive|\n",
      "|après ma séance d...|                      negative|               negative|\n",
      "|retrouve ma vid…r...|                      negative|               negative|\n",
      "+--------------------+------------------------------+-----------------------+\n",
      "only showing top 20 rows\n",
      "\n"
     ]
    }
   ],
   "source": [
    "spark.sql(\"SELECT _1,custom_predict(custom_udf(_1)),texblob(custom_udf(_1)) FROM tweets1\").show()"
   ]
  },
  {
   "cell_type": "code",
   "execution_count": null,
   "metadata": {},
   "outputs": [],
   "source": []
  },
  {
   "cell_type": "code",
   "execution_count": null,
   "metadata": {},
   "outputs": [],
   "source": []
  },
  {
   "cell_type": "code",
   "execution_count": 3,
   "metadata": {},
   "outputs": [
    {
     "data": {
      "image/png": "[encoded data removed]",
      "text/plain": [
       "<Figure size 720x576 with 1 Axes>"
      ]
     },
     "metadata": {
      "needs_background": "light"
     },
     "output_type": "display_data"
    }
   ],
   "source": [
    "count = 0\n",
    "while count < 10:\n",
    "    time.sleep(5)\n",
    "    top_10_tweets = sqlContext.sql( 'Select tag, count from tweets' )\n",
    "    top_10_df = top_10_tweets.toPandas()\n",
    "    display.clear_output(wait=True)\n",
    "    plt.figure( figsize = ( 10, 8 ) )\n",
    "    sns.barplot( x=\"count\", y=\"tag\", data=top_10_df)\n",
    "    plt.show()\n",
    "    count = count + 1"
   ]
  },
  {
   "cell_type": "code",
   "execution_count": 4,
   "metadata": {},
   "outputs": [
    {
     "data": {
      "image/png": "[encoded data removed]",
      "text/plain": [
       "<Figure size 720x576 with 1 Axes>"
      ]
     },
     "metadata": {},
     "output_type": "display_data"
    }
   ],
   "source": [
    "count = 0\n",
    "while count < 10:\n",
    "    \n",
    "    time.sleep( 5 )\n",
    "    df=sqlContext.sql( \"Select 'negative' tag,count(distinct _1) ct from tweets1 WHERE (_1 LIKE '%disappoi%' or _1 LIKE '%sad%' or _1 LIKE '%concern%' or _1 LIKE '%bad%' or _1 LIKE '%fail%') \\\n",
    "               UNION \\\n",
    "               Select 'positive' tag,count(distinct _1) ct from tweets1 WHERE (_1 LIKE '%happy%' OR _1 LIKE '%wonderful%' OR _1 LIKE '%bliss%' OR _1 LIKE '%hope%' OR _1 LIKE '%win%')\").toPandas()\n",
    "    display.clear_output(wait=True)\n",
    "    plt.figure( figsize = ( 10, 8 ) )\n",
    "    sns.set(style=\"whitegrid\")\n",
    "    sns.barplot( x=\"tag\", y=\"ct\", data=df)\n",
    "    plt.show()\n",
    "    count = count + 1"
   ]
  },
  {
   "cell_type": "code",
   "execution_count": 5,
   "metadata": {},
   "outputs": [
    {
     "data": {
      "image/png": "[encoded data removed]",
      "text/plain": [
       "<Figure size 576x432 with 1 Axes>"
      ]
     },
     "metadata": {},
     "output_type": "display_data"
    }
   ],
   "source": [
    "count = 0\n",
    "while count < 10:\n",
    "    \n",
    "    time.sleep(3)\n",
    "    df=sqlContext.sql( \"Select 'cricket' tag,count(distinct _1) ct from tweets1 WHERE (_1 LIKE '%cricket%' or _1 LIKE '%cric%') \\\n",
    "               UNION \\\n",
    "               Select 'football' tag,count(distinct _1) ct from tweets1 WHERE (_1 LIKE '%football%')\").toPandas()\n",
    "    display.clear_output(wait=True)\n",
    "    plt.figure( figsize = ( 8, 6 ) )\n",
    "    sns.set(style=\"whitegrid\")\n",
    "    sns.barplot( x=\"tag\", y=\"ct\", data=df)\n",
    "    plt.show()\n",
    "    count = count + 1"
   ]
  },
  {
   "cell_type": "code",
   "execution_count": 6,
   "metadata": {},
   "outputs": [
    {
     "name": "stdout",
     "output_type": "stream",
     "text": [
      "+--------------------------------------+---+\n",
      "|url                                   |ct |\n",
      "+--------------------------------------+---+\n",
      "|https://t.co/hpffnwlnolrt             |1  |\n",
      "|https://t.co/1uq2v2jxwkrod            |1  |\n",
      "|https://t.co/dg0xi…rt                 |1  |\n",
      "|https://t.co/veipxe2a2nrt             |1  |\n",
      "|https://t.co/p6p5nd0yuz@suhasspai     |1  |\n",
      "|https://t.co/sja1e3idsmcongratulations|1  |\n",
      "|https://t.co/ur55lk1yqythis           |1  |\n",
      "|https://t.co/vgzufegyuwour            |1  |\n",
      "|https://t.co/xujpzw7xrw               |1  |\n",
      "|https://t.co/ifqgvvxjgsмесси          |1  |\n",
      "+--------------------------------------+---+\n",
      "\n"
     ]
    }
   ],
   "source": [
    "count = 0\n",
    "while count < 10:\n",
    "    time.sleep(5)\n",
    "    sqlContext.sql( 'Select _1 url,_2 ct from tweets_url').show(truncate=False)\n",
    "    display.clear_output(wait=True)\n",
    "    count = count + 1"
   ]
  },
  {
   "cell_type": "code",
   "execution_count": null,
   "metadata": {},
   "outputs": [],
   "source": []
  },
  {
   "cell_type": "code",
   "execution_count": 10,
   "metadata": {},
   "outputs": [],
   "source": [
    "ssc.stop()"
   ]
  },
  {
   "cell_type": "code",
   "execution_count": null,
   "metadata": {},
   "outputs": [],
   "source": []
  }
 ],
 "metadata": {
  "anaconda-cloud": {},
  "kernelspec": {
   "display_name": "Python 3",
   "language": "python",
   "name": "python3"
  },
  "language_info": {
   "codemirror_mode": {
    "name": "ipython",
    "version": 3
   },
   "file_extension": ".py",
   "mimetype": "text/x-python",
   "name": "python",
   "nbconvert_exporter": "python",
   "pygments_lexer": "ipython3",
   "version": "3.6.8"
  }
 },
 "nbformat": 4,
 "nbformat_minor": 1
}
