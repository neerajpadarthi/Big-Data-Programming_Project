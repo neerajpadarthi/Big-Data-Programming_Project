{
 "cells": [
  {
   "cell_type": "code",
   "execution_count": null,
   "metadata": {},
   "outputs": [],
   "source": [
    "import findspark\n",
    "\n",
    "findspark.init()\n",
    "\n",
    "from pyspark import SparkContext\n",
    "from pyspark.streaming import StreamingContext\n",
    "from pyspark.sql import SQLContext\n",
    "from pyspark.sql.functions import desc\n",
    "import json\n",
    "import pickle\n",
    "\n",
    "sc = SparkContext()\n",
    "ssc = StreamingContext(sc, 10 )\n",
    "sqlContext = SQLContext(sc)\n",
    "\n",
    "socket_stream = ssc.socketTextStream(\"127.0.0.1\", 5555)\n",
    "\n",
    "lines = socket_stream.window( 20,20 )\n",
    "\n",
    "\n",
    "\n",
    "\n",
    "from collections import namedtuple\n",
    "fields = (\"text\", \"location\",\"source\" )\n",
    "Tweet = namedtuple( 'Tweet', fields )\n",
    "\n",
    "# lines.map(lambda x:x.toString).foreachRDD(lambda rddRaw : rddRaw.toDF()).limit(10).registerTempTable(\"tweets1\")\n",
    "\n",
    "\n",
    "( lines.map( lambda text: text.split( \"~@\" ) ) #Splits to a list\n",
    "  .foreachRDD( \n",
    "      lambda rdd: rdd.toDF().registerTempTable(\"tweets\") \n",
    "  )) # Registers to a table.\n",
    "\n",
    "\n",
    "#lines.pprint()"
   ]
  },
  {
   "cell_type": "code",
   "execution_count": null,
   "metadata": {},
   "outputs": [],
   "source": [
    "import time\n",
    "from IPython import display\n",
    "import matplotlib.pyplot as plt\n",
    "import seaborn as sns\n",
    "import pandas\n",
    "# Only works for Jupyter Notebooks!\n",
    "%matplotlib inline\n",
    "\n",
    "ssc.start()\n"
   ]
  },
  {
   "cell_type": "code",
   "execution_count": null,
   "metadata": {},
   "outputs": [],
   "source": [
    "count = 0\n",
    "while count < 1:\n",
    "    \n",
    "    time.sleep( 5 )\n",
    "    \n",
    "    top_10_source = sqlContext.sql('select source,count(*) as count from(select regexp_extract(tweets._3,\\'Android|Twitter Web App|iPhone|Facebook|HubSpot|iPad|EcoInternet3|Echofon\\',0) as source from tweets) where nullif(source,\"\") is not null group by source' )\n",
    "    top_10_df = top_10_source.toPandas()\n",
    "    display.clear_output(wait=True)\n",
    "    plt.figure( figsize = ( 10, 8 ) )\n",
    "    sns.barplot( x=\"count\", y=\"source\", data=top_10_df)\n",
    "    plt.show()\n",
    "    \n",
    "    count = count + 1"
   ]
  },
  {
   "cell_type": "code",
   "execution_count": null,
   "metadata": {},
   "outputs": [],
   "source": [
    "count = 0\n",
    "while count < 1:\n",
    "    \n",
    "    time.sleep( 5 )\n",
    "    top_10_source = sqlContext.sql( 'select tweets._2 as location,count(*) as count from tweets where nullif(tweets._2,\"\") is not null and tweets._2 not like \"%None%\" group by tweets._2' )\n",
    "    top_10_df = top_10_source.toPandas()\n",
    "    display.clear_output(wait=True)\n",
    "    plt.figure( figsize = ( 10, 8 ) )\n",
    "    sns.barplot( x=\"count\", y=\"location\", data=top_10_df)\n",
    "    plt.show()\n",
    "    \n",
    "    count = count + 1"
   ]
  },
  {
   "cell_type": "code",
   "execution_count": null,
   "metadata": {},
   "outputs": [],
   "source": [
    "ssc.stop()"
   ]
  }
 ],
 "metadata": {
  "kernelspec": {
   "display_name": "Python 3",
   "language": "python",
   "name": "python3"
  },
  "language_info": {
   "codemirror_mode": {
    "name": "ipython",
    "version": 3
   },
   "file_extension": ".py",
   "mimetype": "text/x-python",
   "name": "python",
   "nbconvert_exporter": "python",
   "pygments_lexer": "ipython3",
   "version": "3.6.8"
  }
 },
 "nbformat": 4,
 "nbformat_minor": 2
}
